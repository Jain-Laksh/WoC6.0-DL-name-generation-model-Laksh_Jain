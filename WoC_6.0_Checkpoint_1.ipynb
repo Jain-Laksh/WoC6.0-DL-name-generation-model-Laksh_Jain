{
 "cells": [
  {
   "cell_type": "code",
   "execution_count": 3,
   "metadata": {},
   "outputs": [],
   "source": [
    "#importing numpy library\n",
    "import numpy as np"
   ]
  },
  {
   "cell_type": "code",
   "execution_count": null,
   "metadata": {},
   "outputs": [],
   "source": [
    "# np.array()\n",
    "arr= np.array([1,2]) # Creates a 1D array\n",
    "print(arr)\n",
    "arr2=np.array([[4,6],[5,8]])   #Creates a 2D array\n",
    "print(arr2)\n",
    "arr3=np.array([[[5,2],[7,3]],[[1,5],[7,90]]])  #Creates a 3D array\n",
    "print(arr3)"
   ]
  },
  {
   "cell_type": "code",
   "execution_count": null,
   "metadata": {},
   "outputs": [],
   "source": [
    "# np.zeros()\n",
    "arr=np.zeros((3,2))  #Creates a matrix of (3,2) dimension with all entries = 0\n",
    "print(arr)"
   ]
  },
  {
   "cell_type": "code",
   "execution_count": null,
   "metadata": {},
   "outputs": [],
   "source": [
    "# np.ones()\n",
    "arr=np.ones((5,2))  #Creates a matrix of (5,2) dimension with all entries = 1\n",
    "print(arr)"
   ]
  },
  {
   "cell_type": "code",
   "execution_count": null,
   "metadata": {},
   "outputs": [],
   "source": [
    "# np.reshape()\n",
    "arr=np.array([[1,2],[7,8]])\n",
    "arr2=np.reshape(arr,(4,1))  # Reshapes the array to given shape unless the size remains equal\n",
    "print(arr)\n",
    "print(arr2)"
   ]
  },
  {
   "cell_type": "code",
   "execution_count": null,
   "metadata": {},
   "outputs": [],
   "source": [
    "# np.concatenate()\n",
    "a = np.array([[7,5], [1, 99]])\n",
    "b = np.array([[84,69]])\n",
    "print(np.concatenate((a,b), axis=0)) \n",
    "# Concatenates 2 arrays along the given axis provided the array dimension along the given axis match"
   ]
  },
  {
   "cell_type": "code",
   "execution_count": null,
   "metadata": {},
   "outputs": [],
   "source": [
    "# np.mean()\n",
    "arr=np.array([[4,6],[5,8]])\n",
    "print(np.mean(arr))            #Prints the mean of all entries in array\n",
    "print(np.mean(arr, axis=0))    #Prints the mean of entries along vertical axis\n",
    "print(np.mean(arr, axis=1))    #Prints the mean of entries along horizontal axis"
   ]
  },
  {
   "cell_type": "code",
   "execution_count": null,
   "metadata": {},
   "outputs": [],
   "source": [
    "# np.sum()\n",
    "arr=np.array([[4,6],[5,8]])\n",
    "print(np.sum(arr))            #Prints the sum of all entries in array\n",
    "print(np.sum(arr, axis=0))    #Prints the sum of entries along vertical axis\n",
    "print(np.sum(arr, axis=1))    #Prints the sum of entries along horizontal axis"
   ]
  },
  {
   "cell_type": "code",
   "execution_count": null,
   "metadata": {},
   "outputs": [],
   "source": [
    "#np.min()\n",
    "arr=np.array([[4,6],[5,8]])\n",
    "print(np.min(arr))            #Prints the min of all entries in array\n",
    "print(np.min(arr, axis=0))    #Prints the min of entries along vertical axis\n",
    "print(np.min(arr, axis=1))    #Prints the min of entries along horizontal axis"
   ]
  },
  {
   "cell_type": "code",
   "execution_count": null,
   "metadata": {},
   "outputs": [],
   "source": [
    "#np.max()\n",
    "arr=np.array([[4,6],[5,8]])\n",
    "print(np.max(arr))            #Prints the max of all entries in array\n",
    "print(np.max(arr, axis=0))    #Prints the max of entries along vertical axis\n",
    "print(np.max(arr, axis=1))    #Prints the max of entries along horizontal axis"
   ]
  },
  {
   "cell_type": "code",
   "execution_count": null,
   "metadata": {},
   "outputs": [],
   "source": [
    "#np.argmax()\n",
    "arr=np.array([[3,6],[6,7],[5,8]])\n",
    "print(np.argmax(arr,axis=None)) #returns the index of largest entry. Since axis=None, it flattens the array \n",
    "print(np.argmax(arr,axis=0))    #returns the index of largest entry along the columns\n",
    "print(np.argmax(arr,axis=1))    #returns the index of largest entry along the rows"
   ]
  },
  {
   "cell_type": "code",
   "execution_count": null,
   "metadata": {},
   "outputs": [],
   "source": [
    "#np.argmin()\n",
    "arr=np.array([[3,6],[6,7],[5,8]])\n",
    "print(np.argmin(arr,axis=None)) #returns the index of smallest entry. Since axis=None, it flattens the array \n",
    "print(np.argmin(arr,axis=0))    #returns the index of smallest entry along the columns\n",
    "print(np.argmin(arr,axis=1))    #returns the index of smallest entry along the rows "
   ]
  },
  {
   "cell_type": "code",
   "execution_count": null,
   "metadata": {},
   "outputs": [],
   "source": [
    "#np.random.rand()\n",
    "arr=np.random.rand(2,2) # Creates an array with random entries of given shape. It uses lesser memory\n",
    "print(arr)"
   ]
  },
  {
   "cell_type": "code",
   "execution_count": null,
   "metadata": {},
   "outputs": [],
   "source": [
    "#np.random.randn()\n",
    "arr=np.random.randn(2,2) # Creates an array with random entries from normal distribution of given shape.\n",
    "print(arr)"
   ]
  },
  {
   "cell_type": "code",
   "execution_count": 27,
   "metadata": {},
   "outputs": [
    {
     "name": "stdout",
     "output_type": "stream",
     "text": [
      "[[3 3 3 2]\n",
      " [6 2 6 4]\n",
      " [2 4 3 4]]\n"
     ]
    }
   ],
   "source": [
    "#np.random.randint(low,high,size)\n",
    "arr=np.random.randint(2,7,(3,4)) #creates an array with random integer entries that lie in the interval \n",
    "print(arr)"
   ]
  },
  {
   "cell_type": "code",
   "execution_count": 32,
   "metadata": {},
   "outputs": [
    {
     "name": "stdout",
     "output_type": "stream",
     "text": [
      "42\n",
      "13\n",
      "[[4 1]\n",
      " [2 2]]\n"
     ]
    }
   ],
   "source": [
    "#np.dot()\n",
    "\n",
    "    #If both a and b are 1-D arrays, it is inner product of vectors (without complex conjugation).\n",
    "\n",
    "    #If both a and b are 2-D arrays, it is matrix multiplication, but using matmul or a @ b is preferred.\n",
    "\n",
    "    #If either a or b is 0-D (scalar), it is equivalent to multiply and using numpy.multiply(a, b) or a * b is preferred.\n",
    "\n",
    "    # If a is an N-D array and b is a 1-D array, it is a sum product over the last axis of a and b.\n",
    "\n",
    "print(np.dot(6,7))\n",
    "\n",
    "print(np.dot([2, 3], [2, 3]))\n",
    "\n",
    "a = [[1, 0], [0, 1]]\n",
    "b = [[4, 1], [2, 2]]\n",
    "print(np.dot(a, b))"
   ]
  }
 ],
 "metadata": {
  "kernelspec": {
   "display_name": "Python 3",
   "language": "python",
   "name": "python3"
  },
  "language_info": {
   "codemirror_mode": {
    "name": "ipython",
    "version": 3
   },
   "file_extension": ".py",
   "mimetype": "text/x-python",
   "name": "python",
   "nbconvert_exporter": "python",
   "pygments_lexer": "ipython3",
   "version": "3.10.0"
  }
 },
 "nbformat": 4,
 "nbformat_minor": 2
}
